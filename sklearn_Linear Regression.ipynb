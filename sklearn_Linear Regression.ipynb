{
 "cells": [
  {
   "cell_type": "code",
   "execution_count": 42,
   "metadata": {},
   "outputs": [],
   "source": [
    "# Input bags\n",
    "import numpy as np\n",
    "import pandas as pd\n",
    "import matplotlib.pyplot as plt\n",
    "from sklearn.linear_model import LinearRegression\n",
    "from sklearn.metrics import mean_squared_error, r2_score"
   ]
  },
  {
   "cell_type": "code",
   "execution_count": 14,
   "metadata": {},
   "outputs": [
    {
     "data": {
      "text/plain": [
       "(100, 1)"
      ]
     },
     "execution_count": 14,
     "metadata": {},
     "output_type": "execute_result"
    }
   ],
   "source": [
    "# Input data\n",
    "path='C:\\\\Users\\\\ellen\\\\Documents\\\\2019\\\\Python\\\\python入门笔记（强烈推荐）\\\\线性回归及非线性回归\\线性回归以及非线性回归\\\\线性回归以及非线性回归\\\\data.csv'\n",
    "data=pd.read_csv(path,header=None,names=['x','y'])\n",
    "x=data['x']\n",
    "y=data['y']\n",
    "x1=x[:,np.newaxis]\n",
    "y1=y[:,np.newaxis]"
   ]
  },
  {
   "cell_type": "code",
   "execution_count": 15,
   "metadata": {},
   "outputs": [
    {
     "data": {
      "text/plain": [
       "LinearRegression(copy_X=True, fit_intercept=True, n_jobs=None, normalize=False)"
      ]
     },
     "execution_count": 15,
     "metadata": {},
     "output_type": "execute_result"
    }
   ],
   "source": [
    "# Input model\n",
    "model=LinearRegression()\n",
    "model.fit(x1,y1)"
   ]
  },
  {
   "cell_type": "code",
   "execution_count": 17,
   "metadata": {},
   "outputs": [
    {
     "data": {
      "image/png": "[encoded data removed]",
      "text/plain": [
       "<Figure size 432x288 with 1 Axes>"
      ]
     },
     "metadata": {
      "needs_background": "light"
     },
     "output_type": "display_data"
    }
   ],
   "source": [
    "plt.plot(x1,y1,'b.')\n",
    "plt.plot(x1,model.predict(x1),'r.')\n",
    "plt.show()"
   ]
  },
  {
   "cell_type": "code",
   "execution_count": 30,
   "metadata": {},
   "outputs": [
    {
     "name": "stdout",
     "output_type": "stream",
     "text": [
      "score: 0.599\n"
     ]
    }
   ],
   "source": [
    "# accuracy(r**2)\n",
    "model.score(x1,y1)\n",
    "print('score: %.3f' % model.score(x1,y1))"
   ]
  },
  {
   "cell_type": "code",
   "execution_count": 40,
   "metadata": {},
   "outputs": [
    {
     "name": "stdout",
     "output_type": "stream",
     "text": [
      "intercept: [7.99102098] coef: [[1.32243102]]\n"
     ]
    }
   ],
   "source": [
    "b=model.intercept_\n",
    "k=model.coef_\n",
    "print('intercept:',b, 'coef:',k)"
   ]
  },
  {
   "cell_type": "code",
   "execution_count": 44,
   "metadata": {},
   "outputs": [
    {
     "name": "stdout",
     "output_type": "stream",
     "text": [
      "MSE is : 685.3660499722173\n",
      "r2score is: -6.287872650922162\n"
     ]
    }
   ],
   "source": [
    "#The mean squared error\n",
    "mse=mean_squared_error(x1,y1)\n",
    "print('MSE is :',mse)\n",
    "#Coefficient of Determination\n",
    "r2score=r2_score(x1,y1)\n",
    "print('r2score is:',r2score)"
   ]
  }
 ],
 "metadata": {
  "kernelspec": {
   "display_name": "Python 3",
   "language": "python",
   "name": "python3"
  },
  "language_info": {
   "codemirror_mode": {
    "name": "ipython",
    "version": 3
   },
   "file_extension": ".py",
   "mimetype": "text/x-python",
   "name": "python",
   "nbconvert_exporter": "python",
   "pygments_lexer": "ipython3",
   "version": "3.7.3"
  }
 },
 "nbformat": 4,
 "nbformat_minor": 2
}
