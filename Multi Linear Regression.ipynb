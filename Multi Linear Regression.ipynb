{
 "cells": [
  {
   "cell_type": "code",
   "execution_count": 1,
   "metadata": {},
   "outputs": [],
   "source": [
    "# Input bags\n",
    "import numpy as np\n",
    "import pandas as pd\n",
    "import matplotlib.pyplot as plt"
   ]
  },
  {
   "cell_type": "code",
   "execution_count": 70,
   "metadata": {},
   "outputs": [
    {
     "name": "stdout",
     "output_type": "stream",
     "text": [
      "     0  1\n",
      "0  100  4\n",
      "1   50  3\n",
      "2  100  4\n",
      "3  100  2\n",
      "4   50  2\n",
      "5   80  2\n",
      "6   75  3\n",
      "7   65  4\n",
      "8   90  3\n",
      "9   90  2\n",
      "0    9.3\n",
      "1    4.8\n",
      "2    8.9\n",
      "3    6.5\n",
      "4    4.2\n",
      "5    6.2\n",
      "6    7.4\n",
      "7    6.0\n",
      "8    7.6\n",
      "9    6.1\n",
      "Name: 2, dtype: float64\n"
     ]
    }
   ],
   "source": [
    "# Input data\n",
    "path='C:\\\\Users\\\\ellen\\\\Documents\\\\2019\\\\Python\\\\python入门笔记（强烈推荐）\\\\线性回归及非线性回归\\线性回归以及非线性回归\\\\线性回归以及非线性回归\\\\Delivery.csv'\n",
    "data=pd.read_csv(path,header=None)\n",
    "x=data.iloc[:,0:2]\n",
    "y=data.iloc[:,-1]\n",
    "print(x)\n",
    "print(y)"
   ]
  },
  {
   "cell_type": "code",
   "execution_count": 77,
   "metadata": {},
   "outputs": [
    {
     "data": {
      "text/plain": [
       "10"
      ]
     },
     "execution_count": 77,
     "metadata": {},
     "output_type": "execute_result"
    }
   ],
   "source": [
    "y.iloc[0]\n",
    "x.iloc[2,1]\n",
    "len(x)"
   ]
  },
  {
   "cell_type": "code",
   "execution_count": 78,
   "metadata": {},
   "outputs": [],
   "source": [
    "# theta 0\n",
    "theta0=0\n",
    "# theta 1\n",
    "theta1=0\n",
    "# theta 2\n",
    "theta2=0\n",
    "# learning rate\n",
    "lr=0.0001\n",
    "# iteration\n",
    "epochs=1000\n",
    "\n",
    "# Cost Function\n",
    "def compute_error(theta0,theta1,theta2,x,y):\n",
    "    totalerror=0\n",
    "    for i in range(0,len(x)):\n",
    "        totalerror += ((theta2 * x.iloc[i,1] + theta1 * x.iloc[i,0] + theta0)-y.iloc[i])**2\n",
    "    return totalerror/float(len(x))\n",
    "    \n",
    "def gradient_descent_runner(x,y,theta0,theta1,theta2,lr,epochs):\n",
    "    m=float(len(x))\n",
    "    \n",
    "    for i in range(epochs):\n",
    "        theta0_grad=0\n",
    "        theta1_grad=0\n",
    "        theta2_grad=0\n",
    "        \n",
    "        for j in range(0,len(x)):\n",
    "            theta0_grad +=(1/m) * ((theta2 * x.iloc[j,1]) +theta1 * x.iloc[j,0]+ theta0-y.iloc[j])\n",
    "            theta1_grad +=(1/m) * ((theta2 * x.iloc[j,1]) +theta1 * x.iloc[j,0]+ theta0-y.iloc[j])* (x.iloc[j,0])\n",
    "            theta2_grad +=(1/m) * ((theta2 * x.iloc[j,1]) +theta1 * x.iloc[j,0]+ theta0-y.iloc[j])* (x.iloc[j,1])\n",
    "            \n",
    "        theta0= theta0 - lr * theta0_grad\n",
    "        theta1= theta1 - lr * theta1_grad\n",
    "        theta2= theta2 - lr * theta2_grad\n",
    "        \n",
    "#         #plot every 5 times\n",
    "#         if i % 5== 0:\n",
    "#             print(\"epochs:\",i)\n",
    "#             plt.plot(x,y,'b.')\n",
    "#             plt.plot(x,k * x +b,'r.' )\n",
    "#             plt.show()\n",
    "    return theta0,theta1,theta2"
   ]
  },
  {
   "cell_type": "code",
   "execution_count": 79,
   "metadata": {},
   "outputs": [
    {
     "name": "stdout",
     "output_type": "stream",
     "text": [
      "Starting theta0=0,theta1=0,theta2=0,error=47.279999999999994\n",
      "Running...\n",
      "After 1000 times iteration,theta0=0.006971416196678633,theta1=0.08021042690771771,theta2=0.07611036240566814,error=0.7731271432218118\n"
     ]
    }
   ],
   "source": [
    "print(\"Starting theta0={0},theta1={1},theta2={2},error={3}\".\n",
    "      format(theta0,theta1,theta2,compute_error(theta0,theta1,theta2,x,y)))\n",
    "print('Running...')\n",
    "theta0,theta1,theta2 = gradient_descent_runner(x,y,theta0,theta1,theta2,lr,epochs)\n",
    "print(\"After {0} times iteration,theta0={1},theta1={2},theta2={3},error={4}\".\n",
    "      format(epochs,theta0,theta1,theta2,compute_error(theta0,theta1,theta2,x,y)))"
   ]
  }
 ],
 "metadata": {
  "kernelspec": {
   "display_name": "Python 3",
   "language": "python",
   "name": "python3"
  },
  "language_info": {
   "codemirror_mode": {
    "name": "ipython",
    "version": 3
   },
   "file_extension": ".py",
   "mimetype": "text/x-python",
   "name": "python",
   "nbconvert_exporter": "python",
   "pygments_lexer": "ipython3",
   "version": "3.7.3"
  }
 },
 "nbformat": 4,
 "nbformat_minor": 2
}
