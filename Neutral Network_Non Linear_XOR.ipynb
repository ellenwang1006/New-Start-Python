{
 "cells": [
  {
   "cell_type": "code",
   "execution_count": 89,
   "metadata": {},
   "outputs": [],
   "source": [
    "import numpy as np\n",
    "import matplotlib.pyplot as plt"
   ]
  },
  {
   "cell_type": "code",
   "execution_count": 90,
   "metadata": {},
   "outputs": [
    {
     "data": {
      "text/plain": [
       "'\\nXOR\\n\\n0^0 = 0\\n0^1 = 1\\n1^0 = 1\\n1^1 = 0\\n'"
      ]
     },
     "execution_count": 90,
     "metadata": {},
     "output_type": "execute_result"
    }
   ],
   "source": [
    "'''\n",
    "XOR\n",
    "\n",
    "0^0 = 0\n",
    "0^1 = 1\n",
    "1^0 = 1\n",
    "1^1 = 0\n",
    "'''"
   ]
  },
  {
   "cell_type": "code",
   "execution_count": 91,
   "metadata": {},
   "outputs": [
    {
     "name": "stdout",
     "output_type": "stream",
     "text": [
      "[[ 0.69201616]\n",
      " [ 0.15712725]\n",
      " [ 0.25636901]\n",
      " [-0.33905436]\n",
      " [-0.12227238]\n",
      " [ 0.27692137]]\n"
     ]
    }
   ],
   "source": [
    "# Input Data\n",
    "#[1,x1,x2,x1^2,x1*x2,x2^2] generate polynomial items\n",
    "X= np.array([[1,0,0,0,0,0],\n",
    "             [1,0,1,0,0,1],\n",
    "             [1,1,0,1,0,0],\n",
    "             [1,1,1,1,1,1]])\n",
    "\n",
    "Y= np.array([[-1],\n",
    "             [1],\n",
    "             [1],\n",
    "             [-1]])\n",
    "\n",
    "# Set original coef\n",
    "# np.random.random: Return random floats in the half-open interval [0.0, 1.0).\n",
    "#W in[-1,1]\n",
    "\n",
    "W= (np.random.random([6,1])-0.5)*2 \n",
    "print(W)\n",
    "    \n",
    "    \n",
    "# learning rate\n",
    "lr= 0.11\n",
    "# Set output \n",
    "O=0\n",
    "# Set epochs\n",
    "n=0\n",
    "\n",
    "# Define updated coef\n",
    "def update():\n",
    "    global X,Y,W,lr,n\n",
    "    n+=1\n",
    "\n",
    "    O = np.dot(X,W)\n",
    "    W_C = lr * (X.T.dot(Y-O))/int(X.shape[0])\n",
    "    W= W+ W_C"
   ]
  },
  {
   "cell_type": "code",
   "execution_count": 92,
   "metadata": {},
   "outputs": [
    {
     "data": {
      "image/png": "[encoded data removed]",
      "text/plain": [
       "<Figure size 432x288 with 1 Axes>"
      ]
     },
     "metadata": {},
     "output_type": "display_data"
    }
   ],
   "source": [
    "for i in range(10000):\n",
    "    update()\n",
    "    \n",
    "    \n",
    "#[0,1],[1,0]\n",
    "x1 = [0,1]\n",
    "y1 = [1,0]\n",
    "\n",
    "#[0,0],[1,1]\n",
    "x2 = [0,1]\n",
    "y2 = [0,1]\n",
    "\n",
    "\n",
    "\n",
    "\n",
    "def calculate(x,root):\n",
    "    a=W[5]\n",
    "    b=W[2]+x * W[4]\n",
    "    c=W[3]*x*x+W[1]*x+W[0]\n",
    "    \n",
    "    if root==1:\n",
    "        return(-b+np.sqrt(b*b-4*a*c))/(2*a)\n",
    "    if root==2:\n",
    "        return(-b-np.sqrt(b*b-4*a*c))/(2*a)\n",
    "\n",
    "    \n",
    "xdata = np.linspace(-1,2)   \n",
    "\n",
    "plt.figure()\n",
    "\n",
    "plt.plot(xdata,calculate(xdata,1),'r') \n",
    "plt.plot(xdata,calculate(xdata,2),'r') \n",
    "\n",
    "plt.scatter(x1,y1,c='b') \n",
    "plt.scatter(x2,y2,c='y')\n",
    "plt.show()"
   ]
  },
  {
   "cell_type": "code",
   "execution_count": 95,
   "metadata": {},
   "outputs": [
    {
     "name": "stdout",
     "output_type": "stream",
     "text": [
      "[[-1.]\n",
      " [ 1.]\n",
      " [ 1.]\n",
      " [-1.]]\n"
     ]
    }
   ],
   "source": [
    "O=np.dot(X,W)\n",
    "print(O)"
   ]
  },
  {
   "cell_type": "code",
   "execution_count": null,
   "metadata": {},
   "outputs": [],
   "source": []
  },
  {
   "cell_type": "code",
   "execution_count": null,
   "metadata": {},
   "outputs": [],
   "source": []
  },
  {
   "cell_type": "code",
   "execution_count": null,
   "metadata": {},
   "outputs": [],
   "source": []
  },
  {
   "cell_type": "code",
   "execution_count": 93,
   "metadata": {},
   "outputs": [
    {
     "data": {
      "text/plain": [
       "array([-1.        , -0.93877551, -0.87755102, -0.81632653, -0.75510204,\n",
       "       -0.69387755, -0.63265306, -0.57142857, -0.51020408, -0.44897959,\n",
       "       -0.3877551 , -0.32653061, -0.26530612, -0.20408163, -0.14285714,\n",
       "       -0.08163265, -0.02040816,  0.04081633,  0.10204082,  0.16326531,\n",
       "        0.2244898 ,  0.28571429,  0.34693878,  0.40816327,  0.46938776,\n",
       "        0.53061224,  0.59183673,  0.65306122,  0.71428571,  0.7755102 ,\n",
       "        0.83673469,  0.89795918,  0.95918367,  1.02040816,  1.08163265,\n",
       "        1.14285714,  1.20408163,  1.26530612,  1.32653061,  1.3877551 ,\n",
       "        1.44897959,  1.51020408,  1.57142857,  1.63265306,  1.69387755,\n",
       "        1.75510204,  1.81632653,  1.87755102,  1.93877551,  2.        ])"
      ]
     },
     "execution_count": 93,
     "metadata": {},
     "output_type": "execute_result"
    }
   ],
   "source": [
    "x=np.linspace(-1,2)\n",
    "# from 0 to 5 generate 50 evenly values,default 50\n",
    "x"
   ]
  },
  {
   "cell_type": "code",
   "execution_count": null,
   "metadata": {},
   "outputs": [],
   "source": []
  },
  {
   "cell_type": "code",
   "execution_count": null,
   "metadata": {},
   "outputs": [],
   "source": []
  },
  {
   "cell_type": "code",
   "execution_count": null,
   "metadata": {},
   "outputs": [],
   "source": []
  }
 ],
 "metadata": {
  "kernelspec": {
   "display_name": "Python 3",
   "language": "python",
   "name": "python3"
  },
  "language_info": {
   "codemirror_mode": {
    "name": "ipython",
    "version": 3
   },
   "file_extension": ".py",
   "mimetype": "text/x-python",
   "name": "python",
   "nbconvert_exporter": "python",
   "pygments_lexer": "ipython3",
   "version": "3.6.5"
  }
 },
 "nbformat": 4,
 "nbformat_minor": 2
}
