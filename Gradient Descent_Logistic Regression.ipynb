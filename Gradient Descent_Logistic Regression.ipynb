{
 "cells": [
  {
   "cell_type": "code",
   "execution_count": 69,
   "metadata": {},
   "outputs": [],
   "source": [
    "# Input bags\n",
    "import numpy as np\n",
    "import pandas as pd\n",
    "import matplotlib.pyplot as plt\n",
    "from sklearn.metrics import classification_report\n",
    "from sklearn import preprocessing\n",
    "# whether need standardized\n",
    "scale = False"
   ]
  },
  {
   "cell_type": "code",
   "execution_count": 70,
   "metadata": {},
   "outputs": [],
   "source": [
    "# Input data\n",
    "path='C:\\\\Users\\\\YWANG418\\\\Documents\\\\Job\\\\Machine Learning\\\\Regression\\\\LR-testSet.csv'\n",
    "data=pd.read_csv(path,header=None)\n",
    "x=data.iloc[:,:-1]\n",
    "y=data.iloc[:,-1]\n"
   ]
  },
  {
   "cell_type": "code",
   "execution_count": 71,
   "metadata": {},
   "outputs": [
    {
     "data": {
      "image/png": "[encoded data removed]",
      "text/plain": [
       "<Figure size 432x288 with 1 Axes>"
      ]
     },
     "metadata": {},
     "output_type": "display_data"
    }
   ],
   "source": [
    "# Split Data\n",
    "def plot():\n",
    "    x00=[]\n",
    "    x10=[]\n",
    "    x01=[]\n",
    "    x11=[]\n",
    "    \n",
    "    for i in range(len(x)):\n",
    "        if y[i] == 0:\n",
    "            x00.append(x.iloc[i,0])\n",
    "            x10.append(x.iloc[i,1])\n",
    "        else:\n",
    "            x01.append(x.iloc[i,0])\n",
    "            x11.append(x.iloc[i,1])\n",
    "#Plot\n",
    "    Scatter0 = plt.scatter(x00,x10,c='b',marker='o')\n",
    "    Scatter1 = plt.scatter(x01,x11,c='r',marker='x')\n",
    "plot()\n",
    "plt.show()\n"
   ]
  },
  {
   "cell_type": "code",
   "execution_count": 72,
   "metadata": {},
   "outputs": [],
   "source": [
    "x=data.iloc[:,:-1]\n",
    "y=data.iloc[:,-1]\n",
    "y = y[:,np.newaxis]\n",
    "X = np.concatenate((np.ones((100,1)),x),axis=1)\n"
   ]
  },
  {
   "cell_type": "code",
   "execution_count": 73,
   "metadata": {},
   "outputs": [],
   "source": [
    "# Define Function\n",
    "\n",
    "def sigmoid(x):\n",
    "    return 1.0/(1+np.exp(-x))\n",
    "\n",
    "def cost(xMat,yMat,ws):\n",
    "    left = np.multiply(yMat,np.log(sigmoid(xMat * ws)))\n",
    "    right = np.multiply(1-yMat,np.log(1-sigmoid(xMat * ws)))\n",
    "    return np.sum(left+right)/-len(xMat)\n",
    "\n",
    "def GradientDescent(xArr,yArr):\n",
    "    \n",
    "    if scale == True:\n",
    "        xArr=preprocessing.scale(xArr)\n",
    "    xMat= np.mat(xArr)\n",
    "    yMat= np.mat(yArr)\n",
    "    \n",
    "    lr=0.001\n",
    "    epochs=10000\n",
    "    costlist=[]\n",
    "    m,n=np.shape(xMat)\n",
    "    \n",
    "    #set ws\n",
    "    ws= np.mat(np.ones((n,1)))\n",
    "    \n",
    "    for i in range(epochs + 1):\n",
    "               \n",
    "        h=sigmoid(xMat * ws)\n",
    "        ws_grad = xMat.T * (h-yMat)/m\n",
    "        \n",
    "        ws=ws- lr* ws_grad\n",
    "        \n",
    "        if i % 50==0:\n",
    "            costlist.append(cost(xArr,yArr,ws))\n",
    "    return ws, costlist\n"
   ]
  },
  {
   "cell_type": "code",
   "execution_count": 74,
   "metadata": {},
   "outputs": [
    {
     "name": "stdout",
     "output_type": "stream",
     "text": [
      "[[ 2.05836354]\n",
      " [ 0.3510579 ]\n",
      " [-0.36341304]]\n"
     ]
    }
   ],
   "source": [
    "ws,costlist=GradientDescent(X,y)\n",
    "print(ws)"
   ]
  },
  {
   "cell_type": "code",
   "execution_count": 75,
   "metadata": {},
   "outputs": [
    {
     "data": {
      "image/png": "[encoded data removed]",
      "text/plain": [
       "<Figure size 432x288 with 1 Axes>"
      ]
     },
     "metadata": {},
     "output_type": "display_data"
    }
   ],
   "source": [
    "plot()\n",
    "x_test=[[-4],[3]]\n",
    "y_test=((-ws[0]-x_test * ws[1])/ ws[2])\n",
    "\n",
    "plt.plot(x_test,y_test,'k')\n",
    "plt.show()"
   ]
  },
  {
   "cell_type": "code",
   "execution_count": 76,
   "metadata": {},
   "outputs": [
    {
     "data": {
      "image/png": "[encoded data removed]",
      "text/plain": [
       "<Figure size 432x288 with 1 Axes>"
      ]
     },
     "metadata": {},
     "output_type": "display_data"
    }
   ],
   "source": [
    "# Plot costlist trend\n",
    "x= np.linspace(0,10000,201)\n",
    "plt.plot(x,costlist,'r')\n",
    "plt.title('Train Trend')\n",
    "plt.xlabel('Train #')\n",
    "plt.ylabel('Cost')\n",
    "plt.show()"
   ]
  },
  {
   "cell_type": "code",
   "execution_count": 79,
   "metadata": {},
   "outputs": [
    {
     "name": "stdout",
     "output_type": "stream",
     "text": [
      "             precision    recall  f1-score   support\n",
      "\n",
      "          0       0.82      1.00      0.90        47\n",
      "          1       1.00      0.81      0.90        53\n",
      "\n",
      "avg / total       0.92      0.90      0.90       100\n",
      "\n"
     ]
    }
   ],
   "source": [
    "def predict(x0,ws):\n",
    "    if scale == True:\n",
    "        x= preprocessing.scale(x0)\n",
    "    xMat = np.mat(x0)\n",
    "    ws = np.mat(ws)\n",
    "    return[1 if x>= 0.5 else 0 for x in sigmoid(xMat*ws)]\n",
    "\n",
    "predictions= predict(X,ws)\n",
    "\n",
    "print(classification_report(y,predictions))"
   ]
  }
 ],
 "metadata": {
  "kernelspec": {
   "display_name": "Python 3",
   "language": "python",
   "name": "python3"
  },
  "language_info": {
   "codemirror_mode": {
    "name": "ipython",
    "version": 3
   },
   "file_extension": ".py",
   "mimetype": "text/x-python",
   "name": "python",
   "nbconvert_exporter": "python",
   "pygments_lexer": "ipython3",
   "version": "3.6.5"
  }
 },
 "nbformat": 4,
 "nbformat_minor": 2
}
