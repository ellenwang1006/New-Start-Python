{
 "cells": [
  {
   "cell_type": "code",
   "execution_count": 1,
   "metadata": {},
   "outputs": [],
   "source": [
    "import matplotlib.pyplot as plt\n",
    "import numpy as np\n",
    "import operator"
   ]
  },
  {
   "cell_type": "code",
   "execution_count": 4,
   "metadata": {},
   "outputs": [
    {
     "data": {
      "image/png": "[encoded data removed]",
      "text/plain": [
       "<Figure size 432x288 with 1 Axes>"
      ]
     },
     "metadata": {},
     "output_type": "display_data"
    }
   ],
   "source": [
    "# Classify the data by label(action & Romantic movies)\n",
    "\n",
    "x1=np.array([3,2,1])\n",
    "x2=np.array([104,100,81])\n",
    "y1=np.array([101,99,98])\n",
    "y2=np.array([10,5,2])\n",
    "scatter1=plt.scatter(x1,y1,c='r')\n",
    "scatter2=plt.scatter(x2,y2,c='b')\n",
    "\n",
    "# Unknown Data\n",
    "x=np.array([18])\n",
    "y=np.array([90])\n",
    "scatter3=plt.scatter(x,y,c='k')\n",
    "\n",
    "# Plot\n",
    "plt.legend(handles=[scatter1,scatter2,scatter3],labels=['Action','Romantic','X'],loc='best')\n",
    "\n",
    "plt.show()\n",
    "\n",
    "\n",
    "\n",
    "\n"
   ]
  },
  {
   "cell_type": "code",
   "execution_count": 6,
   "metadata": {},
   "outputs": [],
   "source": [
    "# Input known data\n",
    "\n",
    "x_data=np.array([[3,104],\n",
    "               [2,100],\n",
    "               [1,81],\n",
    "               [101,10],\n",
    "               [99,5],\n",
    "               [81,2]])\n",
    "y_data=np.array(['A','A','A','B','B','B'])\n",
    "\n",
    "x_test=np.array([18,90])\n"
   ]
  },
  {
   "cell_type": "code",
   "execution_count": 7,
   "metadata": {},
   "outputs": [
    {
     "data": {
      "text/plain": [
       "6"
      ]
     },
     "execution_count": 7,
     "metadata": {},
     "output_type": "execute_result"
    }
   ],
   "source": [
    "# Size of sample\n",
    "\n",
    "x_data_size= x_data.shape[0]\n",
    "x_data_size"
   ]
  },
  {
   "cell_type": "code",
   "execution_count": 9,
   "metadata": {},
   "outputs": [
    {
     "data": {
      "text/plain": [
       "array([[18, 90],\n",
       "       [18, 90],\n",
       "       [18, 90],\n",
       "       [18, 90],\n",
       "       [18, 90],\n",
       "       [18, 90]])"
      ]
     },
     "execution_count": 9,
     "metadata": {},
     "output_type": "execute_result"
    }
   ],
   "source": [
    "#deplicate x_test\n",
    "#np.tile(x,(a,b))\n",
    "# x is copied,(a,b)means how many rows and times \n",
    "np.tile(x_test,(x_data_size,1))\n",
    "# x is copied, 6 rows and 1 column"
   ]
  },
  {
   "cell_type": "code",
   "execution_count": 12,
   "metadata": {},
   "outputs": [
    {
     "data": {
      "text/plain": [
       "array([ 20.51828453,  18.86796226,  19.23538406, 115.27792503,\n",
       "       117.41379817, 108.2266141 ])"
      ]
     },
     "execution_count": 12,
     "metadata": {},
     "output_type": "execute_result"
    }
   ],
   "source": [
    "# Build calculation\n",
    "diff = np.tile(x_test,(x_data_size,1))-x_data\n",
    "sqdiff=diff**2\n",
    "sqDistances= sqdiff.sum(axis=1)\n",
    "distances= sqDistances**0.5\n",
    "distances"
   ]
  },
  {
   "cell_type": "code",
   "execution_count": 11,
   "metadata": {},
   "outputs": [
    {
     "data": {
      "text/plain": [
       "array([1, 2, 0, 5, 3, 4], dtype=int64)"
      ]
     },
     "execution_count": 11,
     "metadata": {},
     "output_type": "execute_result"
    }
   ],
   "source": [
    "# Sort by index\n",
    "#sorted by the value ascently, but show the position\n",
    "sortDistances=distances.argsort()\n",
    "sortDistances"
   ]
  },
  {
   "cell_type": "code",
   "execution_count": 29,
   "metadata": {},
   "outputs": [
    {
     "data": {
      "text/plain": [
       "\"\\nsortDistances[i] only get from 0-4(nearest 5)\\ny_data[sortDistances[i]] will get 5 labels\\n'A','A','A','B','B'\\nlabel=('A','A','A','B','B') is a tuple\\n\\nCount is a dic\\ndict.get(key, default=None)\\nif key doesn't exist, it will return default.\\nFirst time:\\nCount.get('A',0)+1--> 0+1-->1\\nSecond time:\\nCount.get('A',0)+1--> 1+1-->2\\n\\n\""
      ]
     },
     "execution_count": 29,
     "metadata": {},
     "output_type": "execute_result"
    }
   ],
   "source": [
    "# Label Count\n",
    "Count={}\n",
    "# Set k, get the nearest 5 value\n",
    "k = 5\n",
    "for i in range(k):\n",
    "    label=y_data[sortDistances[i]]\n",
    "    Count[label]=Count.get(label,0)+1\n",
    "'''\n",
    "sortDistances[i] only get from 0-4(nearest 5)\n",
    "y_data[sortDistances[i]] will get 5 labels\n",
    "'A','A','A','B','B'\n",
    "label=('A','A','A','B','B') is a tuple\n",
    "\n",
    "Count is a dic\n",
    "dict.get(key, default=None)\n",
    "if key doesn't exist, it will return default.\n",
    "First time:\n",
    "Count.get('A',0)+1--> 0+1-->1\n",
    "Second time:\n",
    "Count.get('A',0)+1--> 1+1-->2\n",
    "\n",
    "'''\n"
   ]
  },
  {
   "cell_type": "code",
   "execution_count": 30,
   "metadata": {},
   "outputs": [
    {
     "data": {
      "text/plain": [
       "dict_items([('A', 3), ('B', 2)])"
      ]
     },
     "execution_count": 30,
     "metadata": {},
     "output_type": "execute_result"
    }
   ],
   "source": [
    "Count.items()"
   ]
  },
  {
   "cell_type": "code",
   "execution_count": 32,
   "metadata": {},
   "outputs": [
    {
     "data": {
      "text/plain": [
       "[('A', 3), ('B', 2)]"
      ]
     },
     "execution_count": 32,
     "metadata": {},
     "output_type": "execute_result"
    }
   ],
   "source": [
    "sortedClassCount = sorted(Count.items(),key=operator.itemgetter(1), reverse=True)\n",
    "'''\n",
    "dic.itmes means key+value\n",
    "\n",
    "key  is the value to sort\n",
    "operator.itemgetter(1) means get the items[1] as key word\n",
    "\n",
    "reverse\n",
    "\n",
    "'''\n",
    "\n",
    "sortedClassCount"
   ]
  },
  {
   "cell_type": "code",
   "execution_count": 33,
   "metadata": {},
   "outputs": [
    {
     "data": {
      "text/plain": [
       "'A'"
      ]
     },
     "execution_count": 33,
     "metadata": {},
     "output_type": "execute_result"
    }
   ],
   "source": [
    "knnclass = sortedClassCount[0][0]\n",
    "knnclass"
   ]
  },
  {
   "cell_type": "code",
   "execution_count": null,
   "metadata": {},
   "outputs": [],
   "source": []
  }
 ],
 "metadata": {
  "kernelspec": {
   "display_name": "Python 3",
   "language": "python",
   "name": "python3"
  },
  "language_info": {
   "codemirror_mode": {
    "name": "ipython",
    "version": 3
   },
   "file_extension": ".py",
   "mimetype": "text/x-python",
   "name": "python",
   "nbconvert_exporter": "python",
   "pygments_lexer": "ipython3",
   "version": "3.6.5"
  }
 },
 "nbformat": 4,
 "nbformat_minor": 2
}
