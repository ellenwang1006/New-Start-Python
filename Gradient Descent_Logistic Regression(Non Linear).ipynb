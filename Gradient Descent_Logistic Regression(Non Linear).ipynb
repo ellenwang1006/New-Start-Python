{
 "cells": [
  {
   "cell_type": "code",
   "execution_count": 9,
   "metadata": {},
   "outputs": [],
   "source": [
    "# Input bags\n",
    "import numpy as np\n",
    "import pandas as pd\n",
    "import matplotlib.pyplot as plt\n",
    "from sklearn.metrics import classification_report\n",
    "from sklearn import preprocessing\n",
    "from sklearn.preprocessing import PolynomialFeatures\n",
    "\n",
    "# whether need standardized\n",
    "scale = False"
   ]
  },
  {
   "cell_type": "code",
   "execution_count": 10,
   "metadata": {},
   "outputs": [
    {
     "data": {
      "image/png": "[encoded data removed]",
      "text/plain": [
       "<Figure size 432x288 with 1 Axes>"
      ]
     },
     "metadata": {
      "needs_background": "light"
     },
     "output_type": "display_data"
    }
   ],
   "source": [
    "# Input data\n",
    "path='C:\\\\Users\\\\ellen\\\\Documents\\\\2019\\\\Python\\\\python入门笔记（强烈推荐）\\\\线性回归及非线性回归\\\\逻辑回归\\\\逻辑回归\\\\LR-testSet2.txt'\n",
    "\n",
    "data=pd.read_csv(path,header=None)\n",
    "x=data.iloc[:,:-1]\n",
    "y=data.iloc[:,-1]\n",
    "# Split Data\n",
    "def plot():\n",
    "    x00=[]\n",
    "    x10=[]\n",
    "    x01=[]\n",
    "    x11=[]\n",
    "    \n",
    "    for i in range(len(x)):\n",
    "        if y[i] == 0:\n",
    "            x00.append(x.iloc[i,0])\n",
    "            x10.append(x.iloc[i,1])\n",
    "        else:\n",
    "            x01.append(x.iloc[i,0])\n",
    "            x11.append(x.iloc[i,1])\n",
    "#Plot\n",
    "    Scatter0 = plt.scatter(x00,x10,c='b',marker='o')\n",
    "    Scatter1 = plt.scatter(x01,x11,c='r',marker='x')\n",
    "    \n",
    "plot()\n",
    "plt.show()"
   ]
  },
  {
   "cell_type": "code",
   "execution_count": 20,
   "metadata": {},
   "outputs": [],
   "source": [
    "# Define Function\n",
    "\n",
    "def sigmoid(x):\n",
    "    return 1.0/(1+np.exp(-x))\n",
    "\n",
    "def cost(xMat,yMat,ws):\n",
    "    left = np.multiply(yMat,np.log(sigmoid(xMat * ws)))\n",
    "    right = np.multiply(1-yMat,np.log(1-sigmoid(xMat * ws)))\n",
    "    return np.sum(left+right)/-len(xMat)\n",
    "\n",
    "def GradientDescent(xArr,yArr):\n",
    "    \n",
    "    if scale == True:\n",
    "        xArr=preprocessing.scale(xArr)\n",
    "    xMat= np.mat(xArr)\n",
    "    yMat= np.mat(yArr)\n",
    "    \n",
    "    lr=0.03\n",
    "    epochs=50000\n",
    "    costlist=[]\n",
    "    m,n=np.shape(xMat)\n",
    "    \n",
    "    #set ws\n",
    "    ws= np.mat(np.ones((n,1)))\n",
    "    \n",
    "    for i in range(epochs + 1):\n",
    "               \n",
    "        h=sigmoid(xMat * ws)\n",
    "        ws_grad = xMat.T * (h-yMat)/m\n",
    "        \n",
    "        ws=ws- lr* ws_grad\n",
    "        \n",
    "        if i % 50==0:\n",
    "            costlist.append(cost(xArr,yArr,ws))\n",
    "    return ws, costlist"
   ]
  },
  {
   "cell_type": "code",
   "execution_count": 32,
   "metadata": {},
   "outputs": [],
   "source": [
    "x=data.iloc[:,:-1]\n",
    "y=data.iloc[:,-1]\n",
    "y = y[:,np.newaxis]\n",
    "# X = np.concatenate((np.ones((118,1)),x),axis=1)"
   ]
  },
  {
   "cell_type": "code",
   "execution_count": 36,
   "metadata": {},
   "outputs": [],
   "source": [
    "#Input function\n",
    "poly_reg=PolynomialFeatures(degree=3)\n",
    "\n",
    "x_poly=poly_reg.fit_transform(x)\n"
   ]
  },
  {
   "cell_type": "code",
   "execution_count": 37,
   "metadata": {},
   "outputs": [
    {
     "name": "stdout",
     "output_type": "stream",
     "text": [
      "[[ 4.16787292]\n",
      " [ 2.72213524]\n",
      " [ 4.55120018]\n",
      " [-9.76109006]\n",
      " [-5.34880198]\n",
      " [-8.51458023]\n",
      " [-0.55950401]\n",
      " [-1.55418165]\n",
      " [-0.75929829]\n",
      " [-2.88573877]]\n"
     ]
    }
   ],
   "source": [
    "ws,costlist=GradientDescent(x_poly,y)\n",
    "print(ws)"
   ]
  },
  {
   "cell_type": "code",
   "execution_count": 43,
   "metadata": {},
   "outputs": [
    {
     "data": {
      "image/png": "[encoded data removed]",
      "text/plain": [
       "<Figure size 432x288 with 1 Axes>"
      ]
     },
     "metadata": {
      "needs_background": "light"
     },
     "output_type": "display_data"
    }
   ],
   "source": [
    "# Plot\n",
    "\n",
    "# Min, Max\n",
    "x_min,x_max=x.iloc[:,0].min()-1,x.iloc[:,0].max()+1\n",
    "y_min,y_max=x.iloc[:,1].min()-1,x.iloc[:,1].max()+1\n",
    "\n",
    "# Generate Grid\n",
    "xx,yy=np.meshgrid(np.arange(x_min,x_max,0.02),\n",
    "                  np.arange(y_min,y_max,0.02))\n",
    "\n",
    "z = sigmoid(poly_reg.fit_transform(np.c_[xx.ravel(), yy.ravel()]).dot(np.array(ws)))\n",
    "\n",
    "for i in range(len(z)):\n",
    "    if z[i] > 0.5:\n",
    "        z[i] = 1\n",
    "    else:\n",
    "        z[i] = 0\n",
    "z = z.reshape(xx.shape)\n",
    "\n",
    "# 等高线图\n",
    "cs = plt.contourf(xx, yy, z)\n",
    "plot() \n",
    "plt.show()"
   ]
  },
  {
   "cell_type": "code",
   "execution_count": 53,
   "metadata": {},
   "outputs": [
    {
     "data": {
      "text/plain": [
       "array([[-239.2111783]])"
      ]
     },
     "execution_count": 53,
     "metadata": {},
     "output_type": "execute_result"
    }
   ],
   "source": [
    "# Predict\n",
    "def predict(x_data, ws):\n",
    "#     if scale == True:\n",
    "#         x_data = preprocessing.scale(x_data)\n",
    "    xMat = np.mat(x_data)\n",
    "    ws = np.mat(ws)\n",
    "    return [1 if x >= 0.5 else 0 for x in sigmoid(xMat*ws)]\n",
    "\n",
    "predictions = predict(x_poly, ws)\n",
    "\n",
    "print(classification_report(y_data, predictions))"
   ]
  },
  {
   "cell_type": "code",
   "execution_count": 2,
   "metadata": {},
   "outputs": [
    {
     "name": "stdout",
     "output_type": "stream",
     "text": [
      "C:\\Users\\ellen\n"
     ]
    }
   ],
   "source": [
    "cd"
   ]
  }
 ],
 "metadata": {
  "kernelspec": {
   "display_name": "Python 3",
   "language": "python",
   "name": "python3"
  },
  "language_info": {
   "codemirror_mode": {
    "name": "ipython",
    "version": 3
   },
   "file_extension": ".py",
   "mimetype": "text/x-python",
   "name": "python",
   "nbconvert_exporter": "python",
   "pygments_lexer": "ipython3",
   "version": "3.7.3"
  }
 },
 "nbformat": 4,
 "nbformat_minor": 2
}
